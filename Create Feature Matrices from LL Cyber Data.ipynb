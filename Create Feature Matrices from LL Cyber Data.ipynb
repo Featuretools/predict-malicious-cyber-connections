{
 "cells": [
  {
   "cell_type": "code",
   "execution_count": 1,
   "metadata": {},
   "outputs": [],
   "source": [
    "import featuretools as ft\n",
    "from featuretools.primitives import Percentile\n",
    "import pandas as pd"
   ]
  },
  {
   "cell_type": "markdown",
   "metadata": {},
   "source": [
    "# Load in data"
   ]
  },
  {
   "cell_type": "code",
   "execution_count": 2,
   "metadata": {},
   "outputs": [],
   "source": [
    "cyber_df = pd.read_csv(\"data/CyberFLTenDays.csv\").sample(10000)\n",
    "cyber_df.index.name = \"log_id\"\n",
    "cyber_df.reset_index(inplace=True, drop=False)\n",
    "cyber_df['label'] = cyber_df['label'].map({'N': False, 'A': True}, na_action='ignore')"
   ]
  },
  {
   "cell_type": "markdown",
   "metadata": {},
   "source": [
    "# Create an EntitySet with many different entities\n",
    "\n",
    "Each entity is a different definition of \"connection\""
   ]
  },
  {
   "cell_type": "code",
   "execution_count": 3,
   "metadata": {},
   "outputs": [
    {
     "data": {
      "text/plain": [
       "Entityset: CyberLL\n",
       "  Entities:\n",
       "    log [Rows: 10000, Columns: 7]\n",
       "    name_host_pairs [Rows: 8060, Columns: 5]\n",
       "    src_pairs [Rows: 7376, Columns: 4]\n",
       "    src_names [Rows: 5769, Columns: 2]\n",
       "    src_hosts [Rows: 3502, Columns: 2]\n",
       "    dest_pairs [Rows: 7425, Columns: 4]\n",
       "    dest_names [Rows: 5783, Columns: 2]\n",
       "    dest_hosts [Rows: 921, Columns: 2]\n",
       "  Relationships:\n",
       "    log.name_host_pair -> name_host_pairs.name_host_pair\n",
       "    name_host_pairs.src_pair -> src_pairs.src_pair\n",
       "    src_pairs.src_name -> src_names.src_name\n",
       "    src_pairs.src_host -> src_hosts.src_host\n",
       "    name_host_pairs.dest_pair -> dest_pairs.dest_pair\n",
       "    dest_pairs.dest_name -> dest_names.dest_name\n",
       "    dest_pairs.dest_host -> dest_hosts.dest_host"
      ]
     },
     "execution_count": 3,
     "metadata": {},
     "output_type": "execute_result"
    }
   ],
   "source": [
    "es = ft.EntitySet(\"CyberLL\")\n",
    "# create an index column\n",
    "cyber_df[\"name_host_pair\"] = cyber_df[\"src_name\"].str.cat(\n",
    "                                [cyber_df[\"dest_name\"],\n",
    "                                 cyber_df[\"src_host\"],\n",
    "                                 cyber_df[\"dest_host\"]],\n",
    "                                sep=' / ')\n",
    "cyber_df[\"src_pair\"] = cyber_df[\"src_name\"].str.cat(\n",
    "                                 cyber_df[\"src_host\"],\n",
    "                                 sep=' / ')\n",
    "cyber_df[\"dest_pair\"] = cyber_df[\"dest_name\"].str.cat(\n",
    "                                 cyber_df[\"dest_host\"],\n",
    "                                 sep=' / ')\n",
    "es.entity_from_dataframe(\"log\",\n",
    "                         cyber_df,\n",
    "                         index=\"log_id\",\n",
    "                         time_index=\"secs\")\n",
    "es.normalize_entity(base_entity_id=\"log\",\n",
    "                    new_entity_id=\"name_host_pairs\",\n",
    "                    index=\"name_host_pair\",\n",
    "                    additional_variables=[\"src_name\", \"dest_name\",\n",
    "                                          \"src_host\", \"dest_host\",\n",
    "                                          \"src_pair\",\n",
    "                                          \"dest_pair\",\n",
    "                                          \"label\"])\n",
    "es.normalize_entity(base_entity_id=\"name_host_pairs\",\n",
    "                    new_entity_id=\"src_pairs\",\n",
    "                    index=\"src_pair\",\n",
    "                    additional_variables=[\"src_name\", \"src_host\"])\n",
    "es.normalize_entity(base_entity_id=\"src_pairs\",\n",
    "                    new_entity_id=\"src_names\",\n",
    "                    index=\"src_name\")\n",
    "es.normalize_entity(base_entity_id=\"src_pairs\",\n",
    "                    new_entity_id=\"src_hosts\",\n",
    "                    index=\"src_host\")\n",
    "es.normalize_entity(base_entity_id=\"name_host_pairs\",\n",
    "                    new_entity_id=\"dest_pairs\",\n",
    "                    index=\"dest_pair\",\n",
    "                    additional_variables=[\"dest_name\", \"dest_host\"])\n",
    "es.normalize_entity(base_entity_id=\"dest_pairs\",\n",
    "                    new_entity_id=\"dest_names\",\n",
    "                    index=\"dest_name\")\n",
    "es.normalize_entity(base_entity_id=\"dest_pairs\",\n",
    "                    new_entity_id=\"dest_hosts\",\n",
    "                    index=\"dest_host\")"
   ]
  },
  {
   "cell_type": "markdown",
   "metadata": {},
   "source": [
    "## Visualize EntitySet"
   ]
  },
  {
   "cell_type": "code",
   "execution_count": 4,
   "metadata": {},
   "outputs": [
    {
     "data": {
      "image/svg+xml": [
       "<?xml version=\"1.0\" encoding=\"UTF-8\" standalone=\"no\"?>\n",
       "<!DOCTYPE svg PUBLIC \"-//W3C//DTD SVG 1.1//EN\"\n",
       " \"http://www.w3.org/Graphics/SVG/1.1/DTD/svg11.dtd\">\n",
       "<!-- Generated by graphviz version 2.40.1 (20161225.0304)\n",
       " -->\n",
       "<!-- Title: CyberLL Pages: 1 -->\n",
       "<svg width=\"1113pt\" height=\"514pt\"\n",
       " viewBox=\"0.00 0.00 1112.50 514.00\" xmlns=\"http://www.w3.org/2000/svg\" xmlns:xlink=\"http://www.w3.org/1999/xlink\">\n",
       "<g id=\"graph0\" class=\"graph\" transform=\"scale(1 1) rotate(0) translate(4 510)\">\n",
       "<title>CyberLL</title>\n",
       "<polygon fill=\"#ffffff\" stroke=\"transparent\" points=\"-4,4 -4,-510 1108.5,-510 1108.5,4 -4,4\"/>\n",
       "<!-- log -->\n",
       "<g id=\"node1\" class=\"node\">\n",
       "<title>log</title>\n",
       "<polygon fill=\"none\" stroke=\"#000000\" points=\"462.5,-369.5 462.5,-505.5 629.5,-505.5 629.5,-369.5 462.5,-369.5\"/>\n",
       "<text text-anchor=\"middle\" x=\"546\" y=\"-490.3\" font-family=\"Times,serif\" font-size=\"14.00\" fill=\"#000000\">log</text>\n",
       "<polyline fill=\"none\" stroke=\"#000000\" points=\"462.5,-482.5 629.5,-482.5 \"/>\n",
       "<text text-anchor=\"start\" x=\"470.5\" y=\"-467.3\" font-family=\"Times,serif\" font-size=\"14.00\" fill=\"#000000\">log_id : index</text>\n",
       "<text text-anchor=\"start\" x=\"470.5\" y=\"-452.3\" font-family=\"Times,serif\" font-size=\"14.00\" fill=\"#000000\">secs : numeric_time_index</text>\n",
       "<text text-anchor=\"start\" x=\"470.5\" y=\"-437.3\" font-family=\"Times,serif\" font-size=\"14.00\" fill=\"#000000\">auth_type : categorical</text>\n",
       "<text text-anchor=\"start\" x=\"470.5\" y=\"-422.3\" font-family=\"Times,serif\" font-size=\"14.00\" fill=\"#000000\">login_type : categorical</text>\n",
       "<text text-anchor=\"start\" x=\"470.5\" y=\"-407.3\" font-family=\"Times,serif\" font-size=\"14.00\" fill=\"#000000\">stage : categorical</text>\n",
       "<text text-anchor=\"start\" x=\"470.5\" y=\"-392.3\" font-family=\"Times,serif\" font-size=\"14.00\" fill=\"#000000\">result : categorical</text>\n",
       "<text text-anchor=\"start\" x=\"470.5\" y=\"-377.3\" font-family=\"Times,serif\" font-size=\"14.00\" fill=\"#000000\">name_host_pair : id</text>\n",
       "</g>\n",
       "<!-- name_host_pairs -->\n",
       "<g id=\"node2\" class=\"node\">\n",
       "<title>name_host_pairs</title>\n",
       "<polygon fill=\"none\" stroke=\"#000000\" points=\"435,-226.5 435,-332.5 657,-332.5 657,-226.5 435,-226.5\"/>\n",
       "<text text-anchor=\"middle\" x=\"546\" y=\"-317.3\" font-family=\"Times,serif\" font-size=\"14.00\" fill=\"#000000\">name_host_pairs</text>\n",
       "<polyline fill=\"none\" stroke=\"#000000\" points=\"435,-309.5 657,-309.5 \"/>\n",
       "<text text-anchor=\"start\" x=\"443\" y=\"-294.3\" font-family=\"Times,serif\" font-size=\"14.00\" fill=\"#000000\">name_host_pair : index</text>\n",
       "<text text-anchor=\"start\" x=\"443\" y=\"-279.3\" font-family=\"Times,serif\" font-size=\"14.00\" fill=\"#000000\">src_pair : id</text>\n",
       "<text text-anchor=\"start\" x=\"443\" y=\"-264.3\" font-family=\"Times,serif\" font-size=\"14.00\" fill=\"#000000\">dest_pair : id</text>\n",
       "<text text-anchor=\"start\" x=\"443\" y=\"-249.3\" font-family=\"Times,serif\" font-size=\"14.00\" fill=\"#000000\">label : boolean</text>\n",
       "<text text-anchor=\"start\" x=\"443\" y=\"-234.3\" font-family=\"Times,serif\" font-size=\"14.00\" fill=\"#000000\">first_log_time : numeric_time_index</text>\n",
       "</g>\n",
       "<!-- log&#45;&gt;name_host_pairs -->\n",
       "<g id=\"edge1\" class=\"edge\">\n",
       "<title>log&#45;&gt;name_host_pairs</title>\n",
       "<path fill=\"none\" stroke=\"#000000\" d=\"M546,-369.1178C546,-369.1178 546,-342.7455 546,-342.7455\"/>\n",
       "<polygon fill=\"#000000\" stroke=\"#000000\" points=\"549.5001,-342.7455 546,-332.7455 542.5001,-342.7456 549.5001,-342.7455\"/>\n",
       "<text text-anchor=\"middle\" x=\"501\" y=\"-344.7317\" font-family=\"Times,serif\" font-size=\"14.00\" fill=\"#000000\">name_host_pair</text>\n",
       "</g>\n",
       "<!-- src_pairs -->\n",
       "<g id=\"node3\" class=\"node\">\n",
       "<title>src_pairs</title>\n",
       "<polygon fill=\"none\" stroke=\"#000000\" points=\"238.5,-98.5 238.5,-189.5 537.5,-189.5 537.5,-98.5 238.5,-98.5\"/>\n",
       "<text text-anchor=\"middle\" x=\"388\" y=\"-174.3\" font-family=\"Times,serif\" font-size=\"14.00\" fill=\"#000000\">src_pairs</text>\n",
       "<polyline fill=\"none\" stroke=\"#000000\" points=\"238.5,-166.5 537.5,-166.5 \"/>\n",
       "<text text-anchor=\"start\" x=\"246.5\" y=\"-151.3\" font-family=\"Times,serif\" font-size=\"14.00\" fill=\"#000000\">src_pair : index</text>\n",
       "<text text-anchor=\"start\" x=\"246.5\" y=\"-136.3\" font-family=\"Times,serif\" font-size=\"14.00\" fill=\"#000000\">src_name : id</text>\n",
       "<text text-anchor=\"start\" x=\"246.5\" y=\"-121.3\" font-family=\"Times,serif\" font-size=\"14.00\" fill=\"#000000\">src_host : id</text>\n",
       "<text text-anchor=\"start\" x=\"246.5\" y=\"-106.3\" font-family=\"Times,serif\" font-size=\"14.00\" fill=\"#000000\">first_name_host_pairs_time : numeric_time_index</text>\n",
       "</g>\n",
       "<!-- name_host_pairs&#45;&gt;src_pairs -->\n",
       "<g id=\"edge2\" class=\"edge\">\n",
       "<title>name_host_pairs&#45;&gt;src_pairs</title>\n",
       "<path fill=\"none\" stroke=\"#000000\" d=\"M486.25,-226.3357C486.25,-226.3357 486.25,-199.5525 486.25,-199.5525\"/>\n",
       "<polygon fill=\"#000000\" stroke=\"#000000\" points=\"489.7501,-199.5525 486.25,-189.5525 482.7501,-199.5525 489.7501,-199.5525\"/>\n",
       "<text text-anchor=\"middle\" x=\"463.25\" y=\"-201.7441\" font-family=\"Times,serif\" font-size=\"14.00\" fill=\"#000000\">src_pair</text>\n",
       "</g>\n",
       "<!-- dest_pairs -->\n",
       "<g id=\"node6\" class=\"node\">\n",
       "<title>dest_pairs</title>\n",
       "<polygon fill=\"none\" stroke=\"#000000\" points=\"555.5,-98.5 555.5,-189.5 854.5,-189.5 854.5,-98.5 555.5,-98.5\"/>\n",
       "<text text-anchor=\"middle\" x=\"705\" y=\"-174.3\" font-family=\"Times,serif\" font-size=\"14.00\" fill=\"#000000\">dest_pairs</text>\n",
       "<polyline fill=\"none\" stroke=\"#000000\" points=\"555.5,-166.5 854.5,-166.5 \"/>\n",
       "<text text-anchor=\"start\" x=\"563.5\" y=\"-151.3\" font-family=\"Times,serif\" font-size=\"14.00\" fill=\"#000000\">dest_pair : index</text>\n",
       "<text text-anchor=\"start\" x=\"563.5\" y=\"-136.3\" font-family=\"Times,serif\" font-size=\"14.00\" fill=\"#000000\">dest_name : id</text>\n",
       "<text text-anchor=\"start\" x=\"563.5\" y=\"-121.3\" font-family=\"Times,serif\" font-size=\"14.00\" fill=\"#000000\">dest_host : id</text>\n",
       "<text text-anchor=\"start\" x=\"563.5\" y=\"-106.3\" font-family=\"Times,serif\" font-size=\"14.00\" fill=\"#000000\">first_name_host_pairs_time : numeric_time_index</text>\n",
       "</g>\n",
       "<!-- name_host_pairs&#45;&gt;dest_pairs -->\n",
       "<g id=\"edge5\" class=\"edge\">\n",
       "<title>name_host_pairs&#45;&gt;dest_pairs</title>\n",
       "<path fill=\"none\" stroke=\"#000000\" d=\"M606.25,-226.3357C606.25,-226.3357 606.25,-199.5525 606.25,-199.5525\"/>\n",
       "<polygon fill=\"#000000\" stroke=\"#000000\" points=\"609.7501,-199.5525 606.25,-189.5525 602.7501,-199.5525 609.7501,-199.5525\"/>\n",
       "<text text-anchor=\"middle\" x=\"580.25\" y=\"-201.7441\" font-family=\"Times,serif\" font-size=\"14.00\" fill=\"#000000\">dest_pair</text>\n",
       "</g>\n",
       "<!-- src_names -->\n",
       "<g id=\"node4\" class=\"node\">\n",
       "<title>src_names</title>\n",
       "<polygon fill=\"none\" stroke=\"#000000\" points=\"0,-.5 0,-61.5 254,-61.5 254,-.5 0,-.5\"/>\n",
       "<text text-anchor=\"middle\" x=\"127\" y=\"-46.3\" font-family=\"Times,serif\" font-size=\"14.00\" fill=\"#000000\">src_names</text>\n",
       "<polyline fill=\"none\" stroke=\"#000000\" points=\"0,-38.5 254,-38.5 \"/>\n",
       "<text text-anchor=\"start\" x=\"8\" y=\"-23.3\" font-family=\"Times,serif\" font-size=\"14.00\" fill=\"#000000\">src_name : index</text>\n",
       "<text text-anchor=\"start\" x=\"8\" y=\"-8.3\" font-family=\"Times,serif\" font-size=\"14.00\" fill=\"#000000\">first_src_pairs_time : numeric_time_index</text>\n",
       "</g>\n",
       "<!-- src_pairs&#45;&gt;src_names -->\n",
       "<g id=\"edge3\" class=\"edge\">\n",
       "<title>src_pairs&#45;&gt;src_names</title>\n",
       "<path fill=\"none\" stroke=\"#000000\" d=\"M246.25,-98.3643C246.25,-98.3643 246.25,-71.5736 246.25,-71.5736\"/>\n",
       "<polygon fill=\"#000000\" stroke=\"#000000\" points=\"249.7501,-71.5736 246.25,-61.5736 242.7501,-71.5736 249.7501,-71.5736\"/>\n",
       "<text text-anchor=\"middle\" x=\"219.25\" y=\"-73.769\" font-family=\"Times,serif\" font-size=\"14.00\" fill=\"#000000\">src_name</text>\n",
       "</g>\n",
       "<!-- src_hosts -->\n",
       "<g id=\"node5\" class=\"node\">\n",
       "<title>src_hosts</title>\n",
       "<polygon fill=\"none\" stroke=\"#000000\" points=\"272,-.5 272,-61.5 526,-61.5 526,-.5 272,-.5\"/>\n",
       "<text text-anchor=\"middle\" x=\"399\" y=\"-46.3\" font-family=\"Times,serif\" font-size=\"14.00\" fill=\"#000000\">src_hosts</text>\n",
       "<polyline fill=\"none\" stroke=\"#000000\" points=\"272,-38.5 526,-38.5 \"/>\n",
       "<text text-anchor=\"start\" x=\"280\" y=\"-23.3\" font-family=\"Times,serif\" font-size=\"14.00\" fill=\"#000000\">src_host : index</text>\n",
       "<text text-anchor=\"start\" x=\"280\" y=\"-8.3\" font-family=\"Times,serif\" font-size=\"14.00\" fill=\"#000000\">first_src_pairs_time : numeric_time_index</text>\n",
       "</g>\n",
       "<!-- src_pairs&#45;&gt;src_hosts -->\n",
       "<g id=\"edge4\" class=\"edge\">\n",
       "<title>src_pairs&#45;&gt;src_hosts</title>\n",
       "<path fill=\"none\" stroke=\"#000000\" d=\"M399,-98.3643C399,-98.3643 399,-71.5736 399,-71.5736\"/>\n",
       "<polygon fill=\"#000000\" stroke=\"#000000\" points=\"402.5001,-71.5736 399,-61.5736 395.5001,-71.5736 402.5001,-71.5736\"/>\n",
       "<text text-anchor=\"middle\" x=\"375.5\" y=\"-73.769\" font-family=\"Times,serif\" font-size=\"14.00\" fill=\"#000000\">src_host</text>\n",
       "</g>\n",
       "<!-- dest_names -->\n",
       "<g id=\"node7\" class=\"node\">\n",
       "<title>dest_names</title>\n",
       "<polygon fill=\"none\" stroke=\"#000000\" points=\"564.5,-.5 564.5,-61.5 825.5,-61.5 825.5,-.5 564.5,-.5\"/>\n",
       "<text text-anchor=\"middle\" x=\"695\" y=\"-46.3\" font-family=\"Times,serif\" font-size=\"14.00\" fill=\"#000000\">dest_names</text>\n",
       "<polyline fill=\"none\" stroke=\"#000000\" points=\"564.5,-38.5 825.5,-38.5 \"/>\n",
       "<text text-anchor=\"start\" x=\"572.5\" y=\"-23.3\" font-family=\"Times,serif\" font-size=\"14.00\" fill=\"#000000\">dest_name : index</text>\n",
       "<text text-anchor=\"start\" x=\"572.5\" y=\"-8.3\" font-family=\"Times,serif\" font-size=\"14.00\" fill=\"#000000\">first_dest_pairs_time : numeric_time_index</text>\n",
       "</g>\n",
       "<!-- dest_pairs&#45;&gt;dest_names -->\n",
       "<g id=\"edge6\" class=\"edge\">\n",
       "<title>dest_pairs&#45;&gt;dest_names</title>\n",
       "<path fill=\"none\" stroke=\"#000000\" d=\"M695,-98.3643C695,-98.3643 695,-71.5736 695,-71.5736\"/>\n",
       "<polygon fill=\"#000000\" stroke=\"#000000\" points=\"698.5001,-71.5736 695,-61.5736 691.5001,-71.5736 698.5001,-71.5736\"/>\n",
       "<text text-anchor=\"middle\" x=\"665\" y=\"-73.769\" font-family=\"Times,serif\" font-size=\"14.00\" fill=\"#000000\">dest_name</text>\n",
       "</g>\n",
       "<!-- dest_hosts -->\n",
       "<g id=\"node8\" class=\"node\">\n",
       "<title>dest_hosts</title>\n",
       "<polygon fill=\"none\" stroke=\"#000000\" points=\"843.5,-.5 843.5,-61.5 1104.5,-61.5 1104.5,-.5 843.5,-.5\"/>\n",
       "<text text-anchor=\"middle\" x=\"974\" y=\"-46.3\" font-family=\"Times,serif\" font-size=\"14.00\" fill=\"#000000\">dest_hosts</text>\n",
       "<polyline fill=\"none\" stroke=\"#000000\" points=\"843.5,-38.5 1104.5,-38.5 \"/>\n",
       "<text text-anchor=\"start\" x=\"851.5\" y=\"-23.3\" font-family=\"Times,serif\" font-size=\"14.00\" fill=\"#000000\">dest_host : index</text>\n",
       "<text text-anchor=\"start\" x=\"851.5\" y=\"-8.3\" font-family=\"Times,serif\" font-size=\"14.00\" fill=\"#000000\">first_dest_pairs_time : numeric_time_index</text>\n",
       "</g>\n",
       "<!-- dest_pairs&#45;&gt;dest_hosts -->\n",
       "<g id=\"edge7\" class=\"edge\">\n",
       "<title>dest_pairs&#45;&gt;dest_hosts</title>\n",
       "<path fill=\"none\" stroke=\"#000000\" d=\"M849,-98.3643C849,-98.3643 849,-71.5736 849,-71.5736\"/>\n",
       "<polygon fill=\"#000000\" stroke=\"#000000\" points=\"852.5001,-71.5736 849,-61.5736 845.5001,-71.5736 852.5001,-71.5736\"/>\n",
       "<text text-anchor=\"middle\" x=\"822.5\" y=\"-73.769\" font-family=\"Times,serif\" font-size=\"14.00\" fill=\"#000000\">dest_host</text>\n",
       "</g>\n",
       "</g>\n",
       "</svg>\n"
      ],
      "text/plain": [
       "<graphviz.dot.Digraph at 0x11f64ff60>"
      ]
     },
     "execution_count": 4,
     "metadata": {},
     "output_type": "execute_result"
    }
   ],
   "source": [
    "es.plot()"
   ]
  },
  {
   "cell_type": "markdown",
   "metadata": {},
   "source": [
    "# Define function to generate labels and cutoff times"
   ]
  },
  {
   "cell_type": "code",
   "execution_count": 4,
   "metadata": {},
   "outputs": [],
   "source": [
    "def generate_cutoffs(cyber_df, index_col, after_n_obs, lead, prediction_window):\n",
    "    window_start = after_n_obs + lead\n",
    "    window_end = window_start + prediction_window\n",
    "    grouped = cyber_df.groupby(index_col)[index_col].count()\n",
    "    grouped.name = \"count\"\n",
    "    min_obs = after_n_obs + lead + 1\n",
    "    enough_examples = grouped[grouped > min_obs].to_frame().reset_index()\n",
    "    enough_examples = cyber_df[cyber_df[index_col].isin(enough_examples[index_col])]\n",
    "    def get_label_and_cutoff(df):\n",
    "        cutoff = df.iloc[after_n_obs]\n",
    "        cutoff['label'] = df.iloc[window_start: window_end][\"label\"].any()\n",
    "        return cutoff\n",
    "    cutoffs = enough_examples.groupby(index_col)[[index_col, \"secs\", \"label\"]].apply(get_label_and_cutoff)\n",
    "    return cutoffs"
   ]
  },
  {
   "cell_type": "code",
   "execution_count": 5,
   "metadata": {},
   "outputs": [],
   "source": [
    "# predict after 3 observations\n",
    "after_n_obs = 3\n",
    "\n",
    "# predict 2 observations out\n",
    "lead = 2\n",
    "\n",
    "# predict if any malicious attacks in a 10-observation window\n",
    "window = 10"
   ]
  },
  {
   "cell_type": "markdown",
   "metadata": {},
   "source": [
    "# Compute features for various types of connections"
   ]
  },
  {
   "cell_type": "code",
   "execution_count": 6,
   "metadata": {},
   "outputs": [
    {
     "name": "stdout",
     "output_type": "stream",
     "text": [
      "Built 807 features\n",
      "Elapsed: 03:48 | Remaining: 00:00 | Progress: 100%|██████████| Calculated: 10/10 chunks\n"
     ]
    }
   ],
   "source": [
    "# features on src_name\n",
    "cutoffs = generate_cutoffs(cyber_df, \"src_name\", after_n_obs, lead, window)\n",
    "fm, fl = ft.dfs(entityset=es, target_entity=\"src_names\", cutoff_time=cutoffs, verbose=True, max_depth=3)"
   ]
  },
  {
   "cell_type": "code",
   "execution_count": 7,
   "metadata": {},
   "outputs": [
    {
     "name": "stdout",
     "output_type": "stream",
     "text": [
      "Built 807 features\n",
      "Elapsed: 03:13 | Remaining: 00:00 | Progress: 100%|██████████| Calculated: 10/10 chunks\n"
     ]
    }
   ],
   "source": [
    "## features on src_host\n",
    "cutoffs = generate_cutoffs(cyber_df, \"src_host\", after_n_obs, lead, window)\n",
    "fm, fl = ft.dfs(entityset=es, target_entity=\"src_hosts\", cutoff_time=cutoffs, verbose=True, max_depth=3)"
   ]
  },
  {
   "cell_type": "code",
   "execution_count": 8,
   "metadata": {},
   "outputs": [
    {
     "name": "stdout",
     "output_type": "stream",
     "text": [
      "Built 807 features\n",
      "Elapsed: 03:25 | Remaining: 00:00 | Progress: 100%|██████████| Calculated: 10/10 chunks\n"
     ]
    }
   ],
   "source": [
    "## features on dest_name\n",
    "cutoffs = generate_cutoffs(cyber_df, \"dest_name\", after_n_obs, lead, window)\n",
    "fm, fl = ft.dfs(entityset=es, target_entity=\"dest_names\", cutoff_time=cutoffs, verbose=True, max_depth=3)"
   ]
  },
  {
   "cell_type": "code",
   "execution_count": 9,
   "metadata": {},
   "outputs": [
    {
     "name": "stdout",
     "output_type": "stream",
     "text": [
      "Built 807 features\n",
      "Elapsed: 02:59 | Remaining: 00:00 | Progress: 100%|██████████| Calculated: 8/8 chunks\n"
     ]
    }
   ],
   "source": [
    "## features on dest_host\n",
    "cutoffs = generate_cutoffs(cyber_df, \"dest_host\", after_n_obs, lead, window)\n",
    "fm, fl = ft.dfs(entityset=es, target_entity=\"dest_hosts\", cutoff_time=cutoffs, verbose=True, max_depth=3)"
   ]
  },
  {
   "cell_type": "code",
   "execution_count": 10,
   "metadata": {},
   "outputs": [
    {
     "name": "stdout",
     "output_type": "stream",
     "text": [
      "Built 99 features\n",
      "Elapsed: 03:21 | Remaining: 00:00 | Progress: 100%|██████████| Calculated: 7/7 chunks\n"
     ]
    }
   ],
   "source": [
    "# features on src_name/dest_name/src_host/dest_host\n",
    "cutoffs = generate_cutoffs(cyber_df, \"name_host_pair\", after_n_obs, lead, window)\n",
    "fm, fl = ft.dfs(entityset=es, target_entity=\"name_host_pairs\", cutoff_time=cutoffs, verbose=True, max_depth=2, trans_primitives=[Percentile])"
   ]
  },
  {
   "cell_type": "code",
   "execution_count": 11,
   "metadata": {},
   "outputs": [],
   "source": [
    "# merge entities together to access the index variables created in the process of normalizing\n",
    "merged = (es['log'].df\n",
    "                   .merge(es['name_host_pairs'].df)\n",
    "                   .merge(es['src_pairs'].df)\n",
    "                   .merge(es['dest_pairs'].df))"
   ]
  },
  {
   "cell_type": "code",
   "execution_count": 12,
   "metadata": {},
   "outputs": [
    {
     "name": "stdout",
     "output_type": "stream",
     "text": [
      "Built 205 features\n",
      "Elapsed: 02:42 | Remaining: 00:00 | Progress: 100%|██████████| Calculated: 5/5 chunks\n"
     ]
    }
   ],
   "source": [
    "# features on src_name/src_host\n",
    "cutoffs = generate_cutoffs(merged, 'src_pair', after_n_obs, lead, window)\n",
    "fm, fl = ft.dfs(entityset=es, target_entity=\"src_pairs\", cutoff_time=cutoffs, verbose=True, max_depth=2, trans_primitives=[Percentile])"
   ]
  },
  {
   "cell_type": "code",
   "execution_count": 13,
   "metadata": {},
   "outputs": [
    {
     "name": "stdout",
     "output_type": "stream",
     "text": [
      "Built 205 features\n",
      "Elapsed: 03:22 | Remaining: 00:00 | Progress: 100%|██████████| Calculated: 5/5 chunks\n"
     ]
    }
   ],
   "source": [
    "# features on dest_name/dest_host\n",
    "cutoffs = generate_cutoffs(merged, 'dest_pair', after_n_obs, lead, window)\n",
    "fm, fl = ft.dfs(entityset=es, target_entity=\"dest_pairs\", cutoff_time=cutoffs, verbose=True, max_depth=2, trans_primitives=[Percentile])"
   ]
  },
  {
   "cell_type": "markdown",
   "metadata": {},
   "source": [
    "<p>\n",
    "    <img src=\"https://www.featurelabs.com/wp-content/uploads/2017/12/logo.png\" alt=\"Featuretools\" />\n",
    "</p>\n",
    "\n",
    "Featuretools was created by the developers at [Feature Labs](https://www.featurelabs.com/). If building impactful data science pipelines is important to you or your business, please [get in touch](https://www.featurelabs.com/contact/)."
   ]
  }
 ],
 "metadata": {
  "kernelspec": {
   "display_name": "Python 3",
   "language": "python",
   "name": "python3"
  },
  "language_info": {
   "codemirror_mode": {
    "name": "ipython",
    "version": 3
   },
   "file_extension": ".py",
   "mimetype": "text/x-python",
   "name": "python",
   "nbconvert_exporter": "python",
   "pygments_lexer": "ipython3",
   "version": "3.7.2"
  }
 },
 "nbformat": 4,
 "nbformat_minor": 2
}
